{
 "cells": [
  {
   "cell_type": "code",
   "execution_count": 34,
   "id": "3dce4856",
   "metadata": {},
   "outputs": [],
   "source": [
    "import pandas as pd"
   ]
  },
  {
   "cell_type": "markdown",
   "id": "101e4ad5",
   "metadata": {},
   "source": [
    "#### Загрузка рабочих файлов\n",
    "df_ass - информация об оценках в тесте  \n",
    "df_cou - предметы по семестрам  \n",
    "df_stass - результаты тестов студентов  \n",
    "df_streg - информация о регистрации студента"
   ]
  },
  {
   "cell_type": "code",
   "execution_count": 35,
   "id": "0b6bb0bc",
   "metadata": {},
   "outputs": [],
   "source": [
    "df_ass = pd.read_csv('assessments.csv')\n",
    "df_cou = pd.read_csv('courses.csv')\n",
    "df_stass = pd.read_csv('studentAssessment.csv')\n",
    "df_streg = pd.read_csv('studentRegistration.csv')"
   ]
  },
  {
   "cell_type": "markdown",
   "id": "98d1673f",
   "metadata": {},
   "source": [
    "#### Задание 4\n",
    "Выяви самые популярные курсы (ТОП-3) по количеству регистраций на них. А также курсы с самым большим оттоком (ТОП-3)"
   ]
  },
  {
   "cell_type": "code",
   "execution_count": 36,
   "id": "2c50140d",
   "metadata": {},
   "outputs": [
    {
     "data": {
      "text/plain": [
       "code_module                0\n",
       "code_presentation          0\n",
       "id_student                 0\n",
       "date_registration         45\n",
       "date_unregistration    22521\n",
       "dtype: int64"
      ]
     },
     "execution_count": 36,
     "metadata": {},
     "output_type": "execute_result"
    }
   ],
   "source": [
    "#смотрим, есть ли значения NaN в колонке date_registration\n",
    "df_streg.isna().sum()"
   ]
  },
  {
   "cell_type": "code",
   "execution_count": 37,
   "id": "6d48676c",
   "metadata": {},
   "outputs": [
    {
     "data": {
      "text/plain": [
       "array([  nan,   -1.,  -33., -126.,  -38., -142., -109., -149.,  -36.,\n",
       "        -61.,  -24., -168., -156., -152.,  -29.,  -65., -116.,  -40.,\n",
       "        -75., -196.,  -81., -213.,   12., -163.,    5.,  146., -166.,\n",
       "         -2.,  -46., -107., -365., -119.,  -88.,  -82.,  -53.,    9.])"
      ]
     },
     "execution_count": 37,
     "metadata": {},
     "output_type": "execute_result"
    }
   ],
   "source": [
    "#выделяем записи с NaN в колонке date_registration в отдельный массив\n",
    "#смотрим какие встречаются даты отмены регистрации (date_unregistration) в данном массиве\n",
    "#выявляем, что в большинстве своем отмена регистрации происходит до начала семестра\n",
    "#в то же время встречаются значения Nan и положительные значения\n",
    "date_reg_nan = df_streg[df_streg['date_registration'].isna()]\n",
    "date_reg_nan.date_unregistration.unique()"
   ]
  },
  {
   "cell_type": "code",
   "execution_count": 38,
   "id": "78adb995",
   "metadata": {},
   "outputs": [
    {
     "data": {
      "text/html": [
       "<div>\n",
       "<style scoped>\n",
       "    .dataframe tbody tr th:only-of-type {\n",
       "        vertical-align: middle;\n",
       "    }\n",
       "\n",
       "    .dataframe tbody tr th {\n",
       "        vertical-align: top;\n",
       "    }\n",
       "\n",
       "    .dataframe thead th {\n",
       "        text-align: right;\n",
       "    }\n",
       "</style>\n",
       "<table border=\"1\" class=\"dataframe\">\n",
       "  <thead>\n",
       "    <tr style=\"text-align: right;\">\n",
       "      <th></th>\n",
       "      <th>code_module</th>\n",
       "      <th>code_presentation</th>\n",
       "      <th>id_student</th>\n",
       "      <th>date_registration</th>\n",
       "      <th>date_unregistration</th>\n",
       "      <th>id_assessment</th>\n",
       "      <th>date_submitted</th>\n",
       "      <th>is_banked</th>\n",
       "      <th>score</th>\n",
       "    </tr>\n",
       "  </thead>\n",
       "  <tbody>\n",
       "    <tr>\n",
       "      <th>0</th>\n",
       "      <td>CCC</td>\n",
       "      <td>2014B</td>\n",
       "      <td>394791</td>\n",
       "      <td>NaN</td>\n",
       "      <td>-61.0</td>\n",
       "      <td>24291</td>\n",
       "      <td>20</td>\n",
       "      <td>0</td>\n",
       "      <td>72.0</td>\n",
       "    </tr>\n",
       "    <tr>\n",
       "      <th>1</th>\n",
       "      <td>CCC</td>\n",
       "      <td>2014B</td>\n",
       "      <td>394791</td>\n",
       "      <td>NaN</td>\n",
       "      <td>-61.0</td>\n",
       "      <td>24292</td>\n",
       "      <td>116</td>\n",
       "      <td>0</td>\n",
       "      <td>72.0</td>\n",
       "    </tr>\n",
       "    <tr>\n",
       "      <th>2</th>\n",
       "      <td>CCC</td>\n",
       "      <td>2014B</td>\n",
       "      <td>394791</td>\n",
       "      <td>NaN</td>\n",
       "      <td>-61.0</td>\n",
       "      <td>24293</td>\n",
       "      <td>158</td>\n",
       "      <td>0</td>\n",
       "      <td>65.0</td>\n",
       "    </tr>\n",
       "    <tr>\n",
       "      <th>3</th>\n",
       "      <td>CCC</td>\n",
       "      <td>2014B</td>\n",
       "      <td>394791</td>\n",
       "      <td>NaN</td>\n",
       "      <td>-61.0</td>\n",
       "      <td>24294</td>\n",
       "      <td>204</td>\n",
       "      <td>0</td>\n",
       "      <td>69.0</td>\n",
       "    </tr>\n",
       "    <tr>\n",
       "      <th>4</th>\n",
       "      <td>CCC</td>\n",
       "      <td>2014B</td>\n",
       "      <td>394791</td>\n",
       "      <td>NaN</td>\n",
       "      <td>-61.0</td>\n",
       "      <td>24295</td>\n",
       "      <td>21</td>\n",
       "      <td>0</td>\n",
       "      <td>44.0</td>\n",
       "    </tr>\n",
       "  </tbody>\n",
       "</table>\n",
       "</div>"
      ],
      "text/plain": [
       "  code_module code_presentation  id_student  date_registration  \\\n",
       "0         CCC             2014B      394791                NaN   \n",
       "1         CCC             2014B      394791                NaN   \n",
       "2         CCC             2014B      394791                NaN   \n",
       "3         CCC             2014B      394791                NaN   \n",
       "4         CCC             2014B      394791                NaN   \n",
       "\n",
       "   date_unregistration  id_assessment  date_submitted  is_banked  score  \n",
       "0                -61.0          24291              20          0   72.0  \n",
       "1                -61.0          24292             116          0   72.0  \n",
       "2                -61.0          24293             158          0   65.0  \n",
       "3                -61.0          24294             204          0   69.0  \n",
       "4                -61.0          24295              21          0   44.0  "
      ]
     },
     "execution_count": 38,
     "metadata": {},
     "output_type": "execute_result"
    }
   ],
   "source": [
    "#объединяем данный массив с данными о сданных тестах и видим, \n",
    "#что несмотря на то что студенты не являются зарегистрированными на курсе\n",
    "#они сдают тесты и экзамены после начала семестра\n",
    "date_reg_nan_merge = date_reg_nan.merge(df_stass, on='id_student')\n",
    "date_reg_nan_merge.head()"
   ]
  },
  {
   "cell_type": "code",
   "execution_count": 39,
   "id": "142d7dd3",
   "metadata": {},
   "outputs": [],
   "source": [
    "#таким образом предлагается использовать эти данные для анализа оттока студентов с курса "
   ]
  },
  {
   "cell_type": "code",
   "execution_count": 40,
   "id": "7097fec2",
   "metadata": {},
   "outputs": [
    {
     "data": {
      "text/html": [
       "<div>\n",
       "<style scoped>\n",
       "    .dataframe tbody tr th:only-of-type {\n",
       "        vertical-align: middle;\n",
       "    }\n",
       "\n",
       "    .dataframe tbody tr th {\n",
       "        vertical-align: top;\n",
       "    }\n",
       "\n",
       "    .dataframe thead th {\n",
       "        text-align: right;\n",
       "    }\n",
       "</style>\n",
       "<table border=\"1\" class=\"dataframe\">\n",
       "  <thead>\n",
       "    <tr style=\"text-align: right;\">\n",
       "      <th></th>\n",
       "      <th>code_module</th>\n",
       "      <th>number_of_reg</th>\n",
       "    </tr>\n",
       "  </thead>\n",
       "  <tbody>\n",
       "    <tr>\n",
       "      <th>1</th>\n",
       "      <td>BBB</td>\n",
       "      <td>7900</td>\n",
       "    </tr>\n",
       "    <tr>\n",
       "      <th>5</th>\n",
       "      <td>FFF</td>\n",
       "      <td>7751</td>\n",
       "    </tr>\n",
       "    <tr>\n",
       "      <th>3</th>\n",
       "      <td>DDD</td>\n",
       "      <td>6257</td>\n",
       "    </tr>\n",
       "  </tbody>\n",
       "</table>\n",
       "</div>"
      ],
      "text/plain": [
       "  code_module  number_of_reg\n",
       "1         BBB           7900\n",
       "5         FFF           7751\n",
       "3         DDD           6257"
      ]
     },
     "execution_count": 40,
     "metadata": {},
     "output_type": "execute_result"
    }
   ],
   "source": [
    "#определяем курс с самым высоким количеством регистраций\n",
    "df_streg.groupby('code_module', as_index = False) \\\n",
    "    .agg({'date_registration': 'count'}) \\\n",
    "    .rename(columns={\"date_registration\": \"number_of_reg\"}) \\\n",
    "    .sort_values(by=['number_of_reg'], ascending = False).head(3)"
   ]
  },
  {
   "cell_type": "code",
   "execution_count": 41,
   "id": "a92c3e0c",
   "metadata": {},
   "outputs": [
    {
     "data": {
      "text/html": [
       "<div>\n",
       "<style scoped>\n",
       "    .dataframe tbody tr th:only-of-type {\n",
       "        vertical-align: middle;\n",
       "    }\n",
       "\n",
       "    .dataframe tbody tr th {\n",
       "        vertical-align: top;\n",
       "    }\n",
       "\n",
       "    .dataframe thead th {\n",
       "        text-align: right;\n",
       "    }\n",
       "</style>\n",
       "<table border=\"1\" class=\"dataframe\">\n",
       "  <thead>\n",
       "    <tr style=\"text-align: right;\">\n",
       "      <th></th>\n",
       "      <th>code_module</th>\n",
       "      <th>number_of_unreg</th>\n",
       "    </tr>\n",
       "  </thead>\n",
       "  <tbody>\n",
       "    <tr>\n",
       "      <th>5</th>\n",
       "      <td>FFF</td>\n",
       "      <td>2380</td>\n",
       "    </tr>\n",
       "    <tr>\n",
       "      <th>1</th>\n",
       "      <td>BBB</td>\n",
       "      <td>2377</td>\n",
       "    </tr>\n",
       "    <tr>\n",
       "      <th>3</th>\n",
       "      <td>DDD</td>\n",
       "      <td>2235</td>\n",
       "    </tr>\n",
       "  </tbody>\n",
       "</table>\n",
       "</div>"
      ],
      "text/plain": [
       "  code_module  number_of_unreg\n",
       "5         FFF             2380\n",
       "1         BBB             2377\n",
       "3         DDD             2235"
      ]
     },
     "execution_count": 41,
     "metadata": {},
     "output_type": "execute_result"
    }
   ],
   "source": [
    "#определяем курс с самым высоким оттоком\n",
    "df_streg.groupby('code_module', as_index = False) \\\n",
    "    .agg({'date_unregistration': 'count'}) \\\n",
    "    .rename(columns={\"date_unregistration\": \"number_of_unreg\"}) \\\n",
    "    .sort_values(by=['number_of_unreg'], ascending = False).head(3)"
   ]
  },
  {
   "cell_type": "markdown",
   "id": "3eb65be3",
   "metadata": {},
   "source": [
    "#### Дополнение после review"
   ]
  },
  {
   "cell_type": "code",
   "execution_count": 42,
   "id": "3bd42b7c",
   "metadata": {},
   "outputs": [
    {
     "data": {
      "text/html": [
       "<div>\n",
       "<style scoped>\n",
       "    .dataframe tbody tr th:only-of-type {\n",
       "        vertical-align: middle;\n",
       "    }\n",
       "\n",
       "    .dataframe tbody tr th {\n",
       "        vertical-align: top;\n",
       "    }\n",
       "\n",
       "    .dataframe thead th {\n",
       "        text-align: right;\n",
       "    }\n",
       "</style>\n",
       "<table border=\"1\" class=\"dataframe\">\n",
       "  <thead>\n",
       "    <tr style=\"text-align: right;\">\n",
       "      <th></th>\n",
       "      <th>code_module</th>\n",
       "      <th>number_of_reg</th>\n",
       "      <th>count_of_unique</th>\n",
       "    </tr>\n",
       "  </thead>\n",
       "  <tbody>\n",
       "    <tr>\n",
       "      <th>1</th>\n",
       "      <td>BBB</td>\n",
       "      <td>7900</td>\n",
       "      <td>7692</td>\n",
       "    </tr>\n",
       "    <tr>\n",
       "      <th>5</th>\n",
       "      <td>FFF</td>\n",
       "      <td>7751</td>\n",
       "      <td>7397</td>\n",
       "    </tr>\n",
       "    <tr>\n",
       "      <th>3</th>\n",
       "      <td>DDD</td>\n",
       "      <td>6257</td>\n",
       "      <td>5848</td>\n",
       "    </tr>\n",
       "    <tr>\n",
       "      <th>2</th>\n",
       "      <td>CCC</td>\n",
       "      <td>4426</td>\n",
       "      <td>4251</td>\n",
       "    </tr>\n",
       "    <tr>\n",
       "      <th>4</th>\n",
       "      <td>EEE</td>\n",
       "      <td>2932</td>\n",
       "      <td>2859</td>\n",
       "    </tr>\n",
       "    <tr>\n",
       "      <th>6</th>\n",
       "      <td>GGG</td>\n",
       "      <td>2534</td>\n",
       "      <td>2525</td>\n",
       "    </tr>\n",
       "    <tr>\n",
       "      <th>0</th>\n",
       "      <td>AAA</td>\n",
       "      <td>748</td>\n",
       "      <td>712</td>\n",
       "    </tr>\n",
       "  </tbody>\n",
       "</table>\n",
       "</div>"
      ],
      "text/plain": [
       "  code_module  number_of_reg  count_of_unique\n",
       "1         BBB           7900             7692\n",
       "5         FFF           7751             7397\n",
       "3         DDD           6257             5848\n",
       "2         CCC           4426             4251\n",
       "4         EEE           2932             2859\n",
       "6         GGG           2534             2525\n",
       "0         AAA            748              712"
      ]
     },
     "execution_count": 42,
     "metadata": {},
     "output_type": "execute_result"
    }
   ],
   "source": [
    "#определяем курс с самым высоким количеством регистраций с учетом уникального id студента\n",
    "df_streg.groupby('code_module', as_index = False) \\\n",
    "    .agg({'date_registration': 'count','id_student': 'nunique'}) \\\n",
    "    .rename(columns={\"date_registration\": \"number_of_reg\", \"id_student\": 'count_of_unique'}) \\\n",
    "    .sort_values(by=['count_of_unique'], ascending = False)"
   ]
  },
  {
   "cell_type": "code",
   "execution_count": 43,
   "id": "18765f2f",
   "metadata": {},
   "outputs": [],
   "source": [
    "#определяем курс с самым высоким количеством отмены регистрации с учетом уникального id студента\n",
    "df_streg['unreg'] = df_streg.date_unregistration.notna()"
   ]
  },
  {
   "cell_type": "code",
   "execution_count": 44,
   "id": "f900b313",
   "metadata": {},
   "outputs": [
    {
     "data": {
      "text/html": [
       "<div>\n",
       "<style scoped>\n",
       "    .dataframe tbody tr th:only-of-type {\n",
       "        vertical-align: middle;\n",
       "    }\n",
       "\n",
       "    .dataframe tbody tr th {\n",
       "        vertical-align: top;\n",
       "    }\n",
       "\n",
       "    .dataframe thead th {\n",
       "        text-align: right;\n",
       "    }\n",
       "</style>\n",
       "<table border=\"1\" class=\"dataframe\">\n",
       "  <thead>\n",
       "    <tr style=\"text-align: right;\">\n",
       "      <th></th>\n",
       "      <th>code_module</th>\n",
       "      <th>number_of_unreg</th>\n",
       "      <th>count_of_unique</th>\n",
       "    </tr>\n",
       "  </thead>\n",
       "  <tbody>\n",
       "    <tr>\n",
       "      <th>1</th>\n",
       "      <td>BBB</td>\n",
       "      <td>2377</td>\n",
       "      <td>2314</td>\n",
       "    </tr>\n",
       "    <tr>\n",
       "      <th>5</th>\n",
       "      <td>FFF</td>\n",
       "      <td>2380</td>\n",
       "      <td>2249</td>\n",
       "    </tr>\n",
       "    <tr>\n",
       "      <th>3</th>\n",
       "      <td>DDD</td>\n",
       "      <td>2235</td>\n",
       "      <td>2065</td>\n",
       "    </tr>\n",
       "    <tr>\n",
       "      <th>2</th>\n",
       "      <td>CCC</td>\n",
       "      <td>1947</td>\n",
       "      <td>1858</td>\n",
       "    </tr>\n",
       "    <tr>\n",
       "      <th>4</th>\n",
       "      <td>EEE</td>\n",
       "      <td>718</td>\n",
       "      <td>693</td>\n",
       "    </tr>\n",
       "    <tr>\n",
       "      <th>6</th>\n",
       "      <td>GGG</td>\n",
       "      <td>289</td>\n",
       "      <td>287</td>\n",
       "    </tr>\n",
       "    <tr>\n",
       "      <th>0</th>\n",
       "      <td>AAA</td>\n",
       "      <td>126</td>\n",
       "      <td>116</td>\n",
       "    </tr>\n",
       "  </tbody>\n",
       "</table>\n",
       "</div>"
      ],
      "text/plain": [
       "  code_module  number_of_unreg  count_of_unique\n",
       "1         BBB             2377             2314\n",
       "5         FFF             2380             2249\n",
       "3         DDD             2235             2065\n",
       "2         CCC             1947             1858\n",
       "4         EEE              718              693\n",
       "6         GGG              289              287\n",
       "0         AAA              126              116"
      ]
     },
     "execution_count": 44,
     "metadata": {},
     "output_type": "execute_result"
    }
   ],
   "source": [
    "df_streg.query('unreg == True') \\\n",
    "    .groupby('code_module', as_index = False) \\\n",
    "    .agg({'date_unregistration': 'count','id_student': 'nunique'}) \\\n",
    "    .rename(columns={\"date_unregistration\": \"number_of_unreg\", \"id_student\": 'count_of_unique'}) \\\n",
    "    .sort_values(by=['count_of_unique'], ascending = False)"
   ]
  },
  {
   "cell_type": "code",
   "execution_count": null,
   "id": "d04eca9c",
   "metadata": {},
   "outputs": [],
   "source": []
  }
 ],
 "metadata": {
  "kernelspec": {
   "display_name": "Python 3",
   "language": "python",
   "name": "python3"
  },
  "language_info": {
   "codemirror_mode": {
    "name": "ipython",
    "version": 3
   },
   "file_extension": ".py",
   "mimetype": "text/x-python",
   "name": "python",
   "nbconvert_exporter": "python",
   "pygments_lexer": "ipython3",
   "version": "3.8.8"
  }
 },
 "nbformat": 4,
 "nbformat_minor": 5
}
