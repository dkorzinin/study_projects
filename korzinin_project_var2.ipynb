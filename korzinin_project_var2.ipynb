{
 "cells": [
  {
   "cell_type": "code",
   "execution_count": 50,
   "id": "7fd4d6da",
   "metadata": {},
   "outputs": [],
   "source": [
    "import pandas as pd\n",
    "import matplotlib.pyplot as plt\n",
    "%matplotlib inline\n",
    "import numpy as np\n",
    "import seaborn as sns\n",
    "import warnings\n",
    "warnings.filterwarnings(\"ignore\")"
   ]
  },
  {
   "cell_type": "markdown",
   "id": "369769ce",
   "metadata": {},
   "source": [
    "#### Проект e-learning: вариант 2  \n",
    "Продакт-менеджер Василий попросил вас проанализировать завершенные уроки и ответить на следующие вопросы:\n",
    "\n",
    "1. Сколько студентов успешно сдали только один курс? (Успешная сдача — это зачёт по курсу на экзамене) (7 баллов).\n",
    "\n",
    "2. Выяви самый сложный и самый простой экзамен: найди курсы и экзамены в рамках курса, которые обладают самой низкой и самой высокой завершаемостью*. (5 баллов)\n",
    "\n",
    "3. По каждому предмету определи средний срок сдачи экзаменов (под сдачей понимаем последнее успешное прохождение экзамена студентом). (5 баллов) \n",
    "\n",
    "4. Выяви самые популярные курсы (ТОП-3) по количеству регистраций на них. А также курсы с самым большим оттоком (ТОП-3). (8 баллов)\n",
    "\n",
    "5. Напиши функцию на python, позволяющую строить когортный (семестровый) анализ. В период с начала 2013 по конец 2014 выяви семестр с самой низкой завершаемостью курсов и самыми долгими средними сроками сдачи курсов. (10 баллов) \n",
    "\n",
    "6. Часто для качественного анализа аудитории использую подходы, основанные на сегментации. Используя python, построй адаптированные RFM-кластеры студентов, чтобы качественно оценить свою аудиторию. В адаптированной кластеризации можешь выбрать следующие метрики: R - среднее время сдачи одного экзамена, F - завершаемость курсов, M - среднее количество баллов, получаемое за экзамен. Подробно опиши, как ты создавал кластеры. Для каждого RFM-сегмента построй границы метрик recency, frequency и monetary для интерпретации этих кластеров. Пример такого описания: RFM-сегмент 132 (recency=1, frequency=3, monetary=2) имеет границы метрик recency от 130 до 500 дней, frequency от 0.1 до 0.5, monetary от 55 до 72 баллов. Описание подхода можно найти тут. (35 баллов)\n",
    "\n",
    "*завершаемость = кол-во успешных экзаменов / кол-во всех попыток сдать экзамен  \n",
    "[обсуждение промежуточного проекта с рецензентом](intermed_proj_review.md)"
   ]
  },
  {
   "cell_type": "markdown",
   "id": "7a286d72",
   "metadata": {},
   "source": [
    "#### Загрузка рабочих файлов\n",
    "[описание файлов](intermed_proj_files.md)  \n",
    "df_ass - информация об оценках в тесте  \n",
    "df_cou - предметы по семестрам  \n",
    "df_stass - результаты тестов студентов  \n",
    "df_streg - информация о регистрации студента"
   ]
  },
  {
   "cell_type": "code",
   "execution_count": 2,
   "id": "46ab4cdd",
   "metadata": {},
   "outputs": [],
   "source": [
    "df_ass = pd.read_csv('assessments.csv')\n",
    "df_cou = pd.read_csv('courses.csv')\n",
    "df_stass = pd.read_csv('studentAssessment.csv')\n",
    "df_streg = pd.read_csv('studentRegistration.csv')"
   ]
  },
  {
   "cell_type": "markdown",
   "id": "a91ca271",
   "metadata": {},
   "source": [
    "#### Задание 1\n",
    "Сколько студентов успешно сдали только один курс? (Успешная сдача — это зачёт по курсу на экзамене)"
   ]
  },
  {
   "cell_type": "code",
   "execution_count": 3,
   "id": "e59166e9",
   "metadata": {},
   "outputs": [],
   "source": [
    "#выявляем те тесты которые являются экзаменами\n",
    "df_ass_exam = df_ass.query('assessment_type == \"Exam\"')\n",
    "df_stass_exam = df_ass_exam.merge(df_stass, on = 'id_assessment')\n",
    "\n",
    "#оставляем только успешно сданные экзамены\n",
    "#группируем по студентам, считаем количество экзаменов\n",
    "#оставляем только тех у кого один успешно сданный экзамен\n",
    "quant_course = df_stass_exam \\\n",
    "    .query('score >= 40') \\\n",
    "    .groupby('id_student', as_index = False) \\\n",
    "    .agg({'date_submitted': 'count'}) \\\n",
    "    .rename(columns = {'date_submitted': 'quantity'}) \\\n",
    "    .query('quantity == 1')"
   ]
  },
  {
   "cell_type": "code",
   "execution_count": 4,
   "id": "9e0b10a3",
   "metadata": {},
   "outputs": [
    {
     "data": {
      "text/plain": [
       "(3802, 2)"
      ]
     },
     "execution_count": 4,
     "metadata": {},
     "output_type": "execute_result"
    }
   ],
   "source": [
    "quant_course.shape"
   ]
  },
  {
   "cell_type": "code",
   "execution_count": 5,
   "id": "8b8f2652",
   "metadata": {},
   "outputs": [],
   "source": [
    "#ответ - успещно сдали только один курс 3802 студента"
   ]
  },
  {
   "cell_type": "markdown",
   "id": "cd0ee889",
   "metadata": {},
   "source": [
    "#### Задание 2\n",
    "Выяви самый сложный и самый простой экзамен: найди курсы и экзамены в рамках курса, которые обладают самой низкой и самой высокой завершаемостью   \n",
    "*завершаемость = кол-во успешных экзаменов / кол-во всех попыток сдать экзамен"
   ]
  },
  {
   "cell_type": "code",
   "execution_count": 6,
   "id": "885ae1e3",
   "metadata": {},
   "outputs": [
    {
     "data": {
      "text/plain": [
       "2"
      ]
     },
     "execution_count": 6,
     "metadata": {},
     "output_type": "execute_result"
    }
   ],
   "source": [
    "#определяем сколько видов экзаменов сдавали студенты\n",
    "df_stass_exam.code_module.nunique()"
   ]
  },
  {
   "cell_type": "code",
   "execution_count": 7,
   "id": "722bce3b",
   "metadata": {},
   "outputs": [],
   "source": [
    "#определяем общее количество сдач по каждому экзамену\n",
    "tests = df_stass_exam \\\n",
    "    .groupby('id_assessment', as_index = False) \\\n",
    "    .agg({'date_submitted': 'count'}) \\\n",
    "    .rename(columns = {'date_submitted': 'quantity'})\n",
    "\n",
    "#определяем количество успешных сдач по каждому экзамену\n",
    "tests_good = df_stass_exam \\\n",
    "    .query('score >= 40') \\\n",
    "    .groupby('id_assessment', as_index = False) \\\n",
    "    .agg({'date_submitted': 'count'}) \\\n",
    "    .rename(columns = {'date_submitted': 'quant_good'})\n",
    "\n",
    "#объединяем датафреймы с общим количеством сдач и с количеством успешных сдач\n",
    "#связываем эти данные с курсами\n",
    "tests_m = pd.merge(pd.merge(tests, tests_good, on='id_assessment'),df_ass,on='id_assessment')\n",
    "\n",
    "#вычисляем завершаемость и добавляем соответствующий столбец\n",
    "tests_m['estimate'] = tests_m['quant_good']/tests_m['quantity']"
   ]
  },
  {
   "cell_type": "code",
   "execution_count": 8,
   "id": "3383c75a",
   "metadata": {},
   "outputs": [
    {
     "data": {
      "text/html": [
       "<div>\n",
       "<style scoped>\n",
       "    .dataframe tbody tr th:only-of-type {\n",
       "        vertical-align: middle;\n",
       "    }\n",
       "\n",
       "    .dataframe tbody tr th {\n",
       "        vertical-align: top;\n",
       "    }\n",
       "\n",
       "    .dataframe thead th {\n",
       "        text-align: right;\n",
       "    }\n",
       "</style>\n",
       "<table border=\"1\" class=\"dataframe\">\n",
       "  <thead>\n",
       "    <tr style=\"text-align: right;\">\n",
       "      <th></th>\n",
       "      <th>id_assessment</th>\n",
       "      <th>quantity</th>\n",
       "      <th>quant_good</th>\n",
       "      <th>code_module</th>\n",
       "      <th>code_presentation</th>\n",
       "      <th>assessment_type</th>\n",
       "      <th>date</th>\n",
       "      <th>weight</th>\n",
       "      <th>estimate</th>\n",
       "    </tr>\n",
       "  </thead>\n",
       "  <tbody>\n",
       "    <tr>\n",
       "      <th>4</th>\n",
       "      <td>25361</td>\n",
       "      <td>524</td>\n",
       "      <td>485</td>\n",
       "      <td>DDD</td>\n",
       "      <td>2014B</td>\n",
       "      <td>Exam</td>\n",
       "      <td>241.0</td>\n",
       "      <td>100.0</td>\n",
       "      <td>0.925573</td>\n",
       "    </tr>\n",
       "  </tbody>\n",
       "</table>\n",
       "</div>"
      ],
      "text/plain": [
       "   id_assessment  quantity  quant_good code_module code_presentation  \\\n",
       "4          25361       524         485         DDD             2014B   \n",
       "\n",
       "  assessment_type   date  weight  estimate  \n",
       "4            Exam  241.0   100.0  0.925573  "
      ]
     },
     "execution_count": 8,
     "metadata": {},
     "output_type": "execute_result"
    }
   ],
   "source": [
    "#определяем экзамен и курс с самой высокой завершаемостью\n",
    "tests_m.sort_values(by='estimate', ascending=False).head(1)"
   ]
  },
  {
   "cell_type": "code",
   "execution_count": 9,
   "id": "e0100cb4",
   "metadata": {},
   "outputs": [
    {
     "data": {
      "text/html": [
       "<div>\n",
       "<style scoped>\n",
       "    .dataframe tbody tr th:only-of-type {\n",
       "        vertical-align: middle;\n",
       "    }\n",
       "\n",
       "    .dataframe tbody tr th {\n",
       "        vertical-align: top;\n",
       "    }\n",
       "\n",
       "    .dataframe thead th {\n",
       "        text-align: right;\n",
       "    }\n",
       "</style>\n",
       "<table border=\"1\" class=\"dataframe\">\n",
       "  <thead>\n",
       "    <tr style=\"text-align: right;\">\n",
       "      <th></th>\n",
       "      <th>id_assessment</th>\n",
       "      <th>quantity</th>\n",
       "      <th>quant_good</th>\n",
       "      <th>code_module</th>\n",
       "      <th>code_presentation</th>\n",
       "      <th>assessment_type</th>\n",
       "      <th>date</th>\n",
       "      <th>weight</th>\n",
       "      <th>estimate</th>\n",
       "    </tr>\n",
       "  </thead>\n",
       "  <tbody>\n",
       "    <tr>\n",
       "      <th>2</th>\n",
       "      <td>25340</td>\n",
       "      <td>602</td>\n",
       "      <td>504</td>\n",
       "      <td>DDD</td>\n",
       "      <td>2013B</td>\n",
       "      <td>Exam</td>\n",
       "      <td>240.0</td>\n",
       "      <td>100.0</td>\n",
       "      <td>0.837209</td>\n",
       "    </tr>\n",
       "  </tbody>\n",
       "</table>\n",
       "</div>"
      ],
      "text/plain": [
       "   id_assessment  quantity  quant_good code_module code_presentation  \\\n",
       "2          25340       602         504         DDD             2013B   \n",
       "\n",
       "  assessment_type   date  weight  estimate  \n",
       "2            Exam  240.0   100.0  0.837209  "
      ]
     },
     "execution_count": 9,
     "metadata": {},
     "output_type": "execute_result"
    }
   ],
   "source": [
    "#определяем экзамен и курс с самой низкой завершаемостью\n",
    "tests_m.sort_values(by='estimate', ascending=True).head(1)"
   ]
  },
  {
   "cell_type": "code",
   "execution_count": 10,
   "id": "fd888201",
   "metadata": {},
   "outputs": [],
   "source": [
    "#таким образом выявлено:\n",
    "#экзамен с самой высокой здаваемостью (0.925573): 25361, предмет: DDD \n",
    "#экзамен с самой низкой здаваемостью (0.837209): 25340,  предмет: DDD"
   ]
  },
  {
   "cell_type": "markdown",
   "id": "0581be22",
   "metadata": {},
   "source": [
    "#### Задание 3\n",
    "По каждому предмету определи средний срок сдачи экзаменов (под сдачей понимаем последнее успешное прохождение экзамена студентом)"
   ]
  },
  {
   "cell_type": "code",
   "execution_count": 11,
   "id": "46ec62a2",
   "metadata": {},
   "outputs": [
    {
     "data": {
      "text/plain": [
       "array([ nan, 240., 261., 241., 235., 228., 222., 236., 227., 229.])"
      ]
     },
     "execution_count": 11,
     "metadata": {},
     "output_type": "execute_result"
    }
   ],
   "source": [
    "#исследуем данные по экзаменам, в частности смотрим -  какие бывают даты сдачи (дедлайны) от начала семестра\n",
    "#видим что есть конкретные дедлайны по сдаче, а есть графы c Nan, т.е. срок сдачи не определен\n",
    "df_ass_exam = df_ass.query('assessment_type == \"Exam\"')\n",
    "df_ass_exam.date.unique()"
   ]
  },
  {
   "cell_type": "code",
   "execution_count": 12,
   "id": "e4db7b06",
   "metadata": {},
   "outputs": [
    {
     "data": {
      "text/plain": [
       "array([230, 234, 236, 243, 237, 238, 242, 266, 244, 245, 248, 256, 251,\n",
       "       250, 259, 249, 252, 285, 231, 229, 233, 241, 235, 255, 279],\n",
       "      dtype=int64)"
      ]
     },
     "execution_count": 12,
     "metadata": {},
     "output_type": "execute_result"
    }
   ],
   "source": [
    "#смотрим на даты о сдаче экзаменов студентами\n",
    "#никаких аномальных значений (nan или отрицательные) нет\n",
    "df_stass_exam.date_submitted.unique()"
   ]
  },
  {
   "cell_type": "code",
   "execution_count": 13,
   "id": "93f67204",
   "metadata": {},
   "outputs": [
    {
     "data": {
      "text/plain": [
       "array(['CCC', 'DDD'], dtype=object)"
      ]
     },
     "execution_count": 13,
     "metadata": {},
     "output_type": "execute_result"
    }
   ],
   "source": [
    "#для начала определяем случаются ли повторные сдачи у студентов одного и того же предмета,\n",
    "# т.к.в условии указано что сдачей считается последнее успешное прохождение экзамена\n",
    "# для этого, для начала смотрим сколько всего видов уникальных экзаменов сдавали студенты\n",
    "df_stass_exam.code_module.unique()"
   ]
  },
  {
   "cell_type": "code",
   "execution_count": 14,
   "id": "5273b7d2",
   "metadata": {},
   "outputs": [],
   "source": [
    "#теперь смотрим сколько всего экзаменов сдавали ученики, т.е. если были значения больше двух, то пересдачи были\n",
    "#для этого группируем по id студента и находим количество сдач для каждого студента\n",
    "df_stass_exam_uniq = df_stass_exam \\\n",
    "    .groupby('id_student', as_index = False) \\\n",
    "    .agg({'score': 'count'}) \\\n",
    "    .rename(columns = {'score': 'quant_exams'})"
   ]
  },
  {
   "cell_type": "code",
   "execution_count": 15,
   "id": "fac5a2d7",
   "metadata": {},
   "outputs": [
    {
     "data": {
      "text/plain": [
       "2"
      ]
     },
     "execution_count": 15,
     "metadata": {},
     "output_type": "execute_result"
    }
   ],
   "source": [
    "#видим что максимальное количество сдаваемых экзаменов 2, т.е. пересдач не было\n",
    "df_stass_exam_uniq.quant_exams.max()"
   ]
  },
  {
   "cell_type": "code",
   "execution_count": 16,
   "id": "57a9068a",
   "metadata": {},
   "outputs": [
    {
     "data": {
      "text/plain": [
       "(7, 10)"
      ]
     },
     "execution_count": 16,
     "metadata": {},
     "output_type": "execute_result"
    }
   ],
   "source": [
    "#к решению можно подходить двумя путями - с учетом дедлайна по экзамену и без учета дедлайна\n",
    "#смотрим были ли сдачи экзамена после дедлайна\n",
    "df_stass_exam2 = df_stass_exam.query('date_submitted > date')\n",
    "\n",
    "#видим, что есть 7 таких случаев\n",
    "df_stass_exam2.shape"
   ]
  },
  {
   "cell_type": "code",
   "execution_count": 17,
   "id": "8cbd1935",
   "metadata": {},
   "outputs": [],
   "source": [
    "#выявляем только те экзамены, которые сданы в срок и для которых дедлайн не обозначен\n",
    "df_stass_exam3 = df_stass_exam.query(\n",
    "    'date_submitted <= date | date != date')"
   ]
  },
  {
   "cell_type": "code",
   "execution_count": 18,
   "id": "f52032bc",
   "metadata": {},
   "outputs": [
    {
     "data": {
      "text/plain": [
       "(4952, 10)"
      ]
     },
     "execution_count": 18,
     "metadata": {},
     "output_type": "execute_result"
    }
   ],
   "source": [
    "df_stass_exam3.shape"
   ]
  },
  {
   "cell_type": "code",
   "execution_count": 19,
   "id": "3e0ed910",
   "metadata": {},
   "outputs": [],
   "source": [
    "#таким образом имеем два массива:\n",
    "#df_stass_exam - все экзамены\n",
    "#df_stass_exam3 - экзамены сданные в срок"
   ]
  },
  {
   "cell_type": "code",
   "execution_count": 20,
   "id": "f15b348d",
   "metadata": {},
   "outputs": [],
   "source": [
    "#определяем средний срок сдачи экзаменов для обоих случаев\n",
    "exams_mean1 = df_stass_exam.groupby('code_module', as_index = False) \\\n",
    "    .agg({'date_submitted':'mean'})\n",
    "exams_mean2 = df_stass_exam3.groupby('code_module', as_index = False) \\\n",
    "    .agg({'date_submitted':'mean'})"
   ]
  },
  {
   "cell_type": "code",
   "execution_count": 21,
   "id": "a74a4a35",
   "metadata": {},
   "outputs": [
    {
     "data": {
      "text/html": [
       "<div>\n",
       "<style scoped>\n",
       "    .dataframe tbody tr th:only-of-type {\n",
       "        vertical-align: middle;\n",
       "    }\n",
       "\n",
       "    .dataframe tbody tr th {\n",
       "        vertical-align: top;\n",
       "    }\n",
       "\n",
       "    .dataframe thead th {\n",
       "        text-align: right;\n",
       "    }\n",
       "</style>\n",
       "<table border=\"1\" class=\"dataframe\">\n",
       "  <thead>\n",
       "    <tr style=\"text-align: right;\">\n",
       "      <th></th>\n",
       "      <th>code_module</th>\n",
       "      <th>date_submitted</th>\n",
       "    </tr>\n",
       "  </thead>\n",
       "  <tbody>\n",
       "    <tr>\n",
       "      <th>0</th>\n",
       "      <td>CCC</td>\n",
       "      <td>239.408877</td>\n",
       "    </tr>\n",
       "    <tr>\n",
       "      <th>1</th>\n",
       "      <td>DDD</td>\n",
       "      <td>237.901445</td>\n",
       "    </tr>\n",
       "  </tbody>\n",
       "</table>\n",
       "</div>"
      ],
      "text/plain": [
       "  code_module  date_submitted\n",
       "0         CCC      239.408877\n",
       "1         DDD      237.901445"
      ]
     },
     "execution_count": 21,
     "metadata": {},
     "output_type": "execute_result"
    }
   ],
   "source": [
    "exams_mean1"
   ]
  },
  {
   "cell_type": "code",
   "execution_count": 22,
   "id": "369033c7",
   "metadata": {},
   "outputs": [
    {
     "data": {
      "text/html": [
       "<div>\n",
       "<style scoped>\n",
       "    .dataframe tbody tr th:only-of-type {\n",
       "        vertical-align: middle;\n",
       "    }\n",
       "\n",
       "    .dataframe tbody tr th {\n",
       "        vertical-align: top;\n",
       "    }\n",
       "\n",
       "    .dataframe thead th {\n",
       "        text-align: right;\n",
       "    }\n",
       "</style>\n",
       "<table border=\"1\" class=\"dataframe\">\n",
       "  <thead>\n",
       "    <tr style=\"text-align: right;\">\n",
       "      <th></th>\n",
       "      <th>code_module</th>\n",
       "      <th>date_submitted</th>\n",
       "    </tr>\n",
       "  </thead>\n",
       "  <tbody>\n",
       "    <tr>\n",
       "      <th>0</th>\n",
       "      <td>CCC</td>\n",
       "      <td>239.408877</td>\n",
       "    </tr>\n",
       "    <tr>\n",
       "      <th>1</th>\n",
       "      <td>DDD</td>\n",
       "      <td>237.888047</td>\n",
       "    </tr>\n",
       "  </tbody>\n",
       "</table>\n",
       "</div>"
      ],
      "text/plain": [
       "  code_module  date_submitted\n",
       "0         CCC      239.408877\n",
       "1         DDD      237.888047"
      ]
     },
     "execution_count": 22,
     "metadata": {},
     "output_type": "execute_result"
    }
   ],
   "source": [
    "exams_mean2"
   ]
  },
  {
   "cell_type": "code",
   "execution_count": 23,
   "id": "2e719e48",
   "metadata": {},
   "outputs": [],
   "source": [
    "#видим, что результаты почти одинковые. Небольшие отличия есть только для экзамена по предмету DDD,\n",
    "#т.е. DDD иногда сдают не в срок"
   ]
  },
  {
   "cell_type": "markdown",
   "id": "76147f7c",
   "metadata": {},
   "source": [
    "#### Задание 4\n",
    "Выяви самые популярные курсы (ТОП-3) по количеству регистраций на них. А также курсы с самым большим оттоком (ТОП-3)"
   ]
  },
  {
   "cell_type": "code",
   "execution_count": 24,
   "id": "2c3d369c",
   "metadata": {},
   "outputs": [
    {
     "data": {
      "text/plain": [
       "code_module                0\n",
       "code_presentation          0\n",
       "id_student                 0\n",
       "date_registration         45\n",
       "date_unregistration    22521\n",
       "dtype: int64"
      ]
     },
     "execution_count": 24,
     "metadata": {},
     "output_type": "execute_result"
    }
   ],
   "source": [
    "#исследуем файл данных с информацией о регистрации студента\n",
    "#смотрим, есть ли значения NaN в колонке date_registration\n",
    "df_streg.isna().sum()"
   ]
  },
  {
   "cell_type": "code",
   "execution_count": 25,
   "id": "a2e208be",
   "metadata": {},
   "outputs": [
    {
     "data": {
      "text/plain": [
       "array([  nan,   -1.,  -33., -126.,  -38., -142., -109., -149.,  -36.,\n",
       "        -61.,  -24., -168., -156., -152.,  -29.,  -65., -116.,  -40.,\n",
       "        -75., -196.,  -81., -213.,   12., -163.,    5.,  146., -166.,\n",
       "         -2.,  -46., -107., -365., -119.,  -88.,  -82.,  -53.,    9.])"
      ]
     },
     "execution_count": 25,
     "metadata": {},
     "output_type": "execute_result"
    }
   ],
   "source": [
    "#выделяем записи с NaN в колонке date_registration в отдельный массив\n",
    "#смотрим в этом массиве -  какие встречаются даты отмены регистрации (date_unregistration) \n",
    "#выявляем, что в большинстве своем отмена регистрации происходит до начала семестра\n",
    "#в то же время встречаются значения Nan и положительные значения\n",
    "date_reg_nan = df_streg[df_streg['date_registration'].isna()]\n",
    "date_reg_nan.date_unregistration.unique()"
   ]
  },
  {
   "cell_type": "code",
   "execution_count": 26,
   "id": "a7789807",
   "metadata": {},
   "outputs": [
    {
     "data": {
      "text/html": [
       "<div>\n",
       "<style scoped>\n",
       "    .dataframe tbody tr th:only-of-type {\n",
       "        vertical-align: middle;\n",
       "    }\n",
       "\n",
       "    .dataframe tbody tr th {\n",
       "        vertical-align: top;\n",
       "    }\n",
       "\n",
       "    .dataframe thead th {\n",
       "        text-align: right;\n",
       "    }\n",
       "</style>\n",
       "<table border=\"1\" class=\"dataframe\">\n",
       "  <thead>\n",
       "    <tr style=\"text-align: right;\">\n",
       "      <th></th>\n",
       "      <th>code_module</th>\n",
       "      <th>code_presentation</th>\n",
       "      <th>id_student</th>\n",
       "      <th>date_registration</th>\n",
       "      <th>date_unregistration</th>\n",
       "      <th>id_assessment</th>\n",
       "      <th>date_submitted</th>\n",
       "      <th>is_banked</th>\n",
       "      <th>score</th>\n",
       "    </tr>\n",
       "  </thead>\n",
       "  <tbody>\n",
       "    <tr>\n",
       "      <th>0</th>\n",
       "      <td>CCC</td>\n",
       "      <td>2014B</td>\n",
       "      <td>394791</td>\n",
       "      <td>NaN</td>\n",
       "      <td>-61.0</td>\n",
       "      <td>24291</td>\n",
       "      <td>20</td>\n",
       "      <td>0</td>\n",
       "      <td>72.0</td>\n",
       "    </tr>\n",
       "    <tr>\n",
       "      <th>1</th>\n",
       "      <td>CCC</td>\n",
       "      <td>2014B</td>\n",
       "      <td>394791</td>\n",
       "      <td>NaN</td>\n",
       "      <td>-61.0</td>\n",
       "      <td>24292</td>\n",
       "      <td>116</td>\n",
       "      <td>0</td>\n",
       "      <td>72.0</td>\n",
       "    </tr>\n",
       "    <tr>\n",
       "      <th>2</th>\n",
       "      <td>CCC</td>\n",
       "      <td>2014B</td>\n",
       "      <td>394791</td>\n",
       "      <td>NaN</td>\n",
       "      <td>-61.0</td>\n",
       "      <td>24293</td>\n",
       "      <td>158</td>\n",
       "      <td>0</td>\n",
       "      <td>65.0</td>\n",
       "    </tr>\n",
       "    <tr>\n",
       "      <th>3</th>\n",
       "      <td>CCC</td>\n",
       "      <td>2014B</td>\n",
       "      <td>394791</td>\n",
       "      <td>NaN</td>\n",
       "      <td>-61.0</td>\n",
       "      <td>24294</td>\n",
       "      <td>204</td>\n",
       "      <td>0</td>\n",
       "      <td>69.0</td>\n",
       "    </tr>\n",
       "    <tr>\n",
       "      <th>4</th>\n",
       "      <td>CCC</td>\n",
       "      <td>2014B</td>\n",
       "      <td>394791</td>\n",
       "      <td>NaN</td>\n",
       "      <td>-61.0</td>\n",
       "      <td>24295</td>\n",
       "      <td>21</td>\n",
       "      <td>0</td>\n",
       "      <td>44.0</td>\n",
       "    </tr>\n",
       "  </tbody>\n",
       "</table>\n",
       "</div>"
      ],
      "text/plain": [
       "  code_module code_presentation  id_student  date_registration  \\\n",
       "0         CCC             2014B      394791                NaN   \n",
       "1         CCC             2014B      394791                NaN   \n",
       "2         CCC             2014B      394791                NaN   \n",
       "3         CCC             2014B      394791                NaN   \n",
       "4         CCC             2014B      394791                NaN   \n",
       "\n",
       "   date_unregistration  id_assessment  date_submitted  is_banked  score  \n",
       "0                -61.0          24291              20          0   72.0  \n",
       "1                -61.0          24292             116          0   72.0  \n",
       "2                -61.0          24293             158          0   65.0  \n",
       "3                -61.0          24294             204          0   69.0  \n",
       "4                -61.0          24295              21          0   44.0  "
      ]
     },
     "execution_count": 26,
     "metadata": {},
     "output_type": "execute_result"
    }
   ],
   "source": [
    "#объединяем данный массив с данными о сданных тестах и видим, \n",
    "#что несмотря на то что студенты не являются зарегистрированными на курсе\n",
    "#они сдают тесты и экзамены после начала семестра\n",
    "date_reg_nan_merge = date_reg_nan.merge(df_stass, on='id_student')\n",
    "date_reg_nan_merge.head()"
   ]
  },
  {
   "cell_type": "code",
   "execution_count": 27,
   "id": "638f9517",
   "metadata": {},
   "outputs": [],
   "source": [
    "#таким образом предлагается использовать эти данные для анализа оттока студентов с курса "
   ]
  },
  {
   "cell_type": "code",
   "execution_count": 28,
   "id": "7b175de1",
   "metadata": {},
   "outputs": [
    {
     "data": {
      "text/html": [
       "<div>\n",
       "<style scoped>\n",
       "    .dataframe tbody tr th:only-of-type {\n",
       "        vertical-align: middle;\n",
       "    }\n",
       "\n",
       "    .dataframe tbody tr th {\n",
       "        vertical-align: top;\n",
       "    }\n",
       "\n",
       "    .dataframe thead th {\n",
       "        text-align: right;\n",
       "    }\n",
       "</style>\n",
       "<table border=\"1\" class=\"dataframe\">\n",
       "  <thead>\n",
       "    <tr style=\"text-align: right;\">\n",
       "      <th></th>\n",
       "      <th>code_module</th>\n",
       "      <th>number_of_reg</th>\n",
       "    </tr>\n",
       "  </thead>\n",
       "  <tbody>\n",
       "    <tr>\n",
       "      <th>1</th>\n",
       "      <td>BBB</td>\n",
       "      <td>7900</td>\n",
       "    </tr>\n",
       "    <tr>\n",
       "      <th>5</th>\n",
       "      <td>FFF</td>\n",
       "      <td>7751</td>\n",
       "    </tr>\n",
       "    <tr>\n",
       "      <th>3</th>\n",
       "      <td>DDD</td>\n",
       "      <td>6257</td>\n",
       "    </tr>\n",
       "  </tbody>\n",
       "</table>\n",
       "</div>"
      ],
      "text/plain": [
       "  code_module  number_of_reg\n",
       "1         BBB           7900\n",
       "5         FFF           7751\n",
       "3         DDD           6257"
      ]
     },
     "execution_count": 28,
     "metadata": {},
     "output_type": "execute_result"
    }
   ],
   "source": [
    "#определяем курс с самым высоким количеством регистраций\n",
    "df_streg.groupby('code_module', as_index = False) \\\n",
    "    .agg({'date_registration': 'count'}) \\\n",
    "    .rename(columns={\"date_registration\": \"number_of_reg\"}) \\\n",
    "    .sort_values(by=['number_of_reg'], ascending = False).head(3)"
   ]
  },
  {
   "cell_type": "code",
   "execution_count": 29,
   "id": "95894103",
   "metadata": {},
   "outputs": [
    {
     "data": {
      "text/html": [
       "<div>\n",
       "<style scoped>\n",
       "    .dataframe tbody tr th:only-of-type {\n",
       "        vertical-align: middle;\n",
       "    }\n",
       "\n",
       "    .dataframe tbody tr th {\n",
       "        vertical-align: top;\n",
       "    }\n",
       "\n",
       "    .dataframe thead th {\n",
       "        text-align: right;\n",
       "    }\n",
       "</style>\n",
       "<table border=\"1\" class=\"dataframe\">\n",
       "  <thead>\n",
       "    <tr style=\"text-align: right;\">\n",
       "      <th></th>\n",
       "      <th>code_module</th>\n",
       "      <th>number_of_unreg</th>\n",
       "    </tr>\n",
       "  </thead>\n",
       "  <tbody>\n",
       "    <tr>\n",
       "      <th>5</th>\n",
       "      <td>FFF</td>\n",
       "      <td>2380</td>\n",
       "    </tr>\n",
       "    <tr>\n",
       "      <th>1</th>\n",
       "      <td>BBB</td>\n",
       "      <td>2377</td>\n",
       "    </tr>\n",
       "    <tr>\n",
       "      <th>3</th>\n",
       "      <td>DDD</td>\n",
       "      <td>2235</td>\n",
       "    </tr>\n",
       "  </tbody>\n",
       "</table>\n",
       "</div>"
      ],
      "text/plain": [
       "  code_module  number_of_unreg\n",
       "5         FFF             2380\n",
       "1         BBB             2377\n",
       "3         DDD             2235"
      ]
     },
     "execution_count": 29,
     "metadata": {},
     "output_type": "execute_result"
    }
   ],
   "source": [
    "#определяем курс с самым высоким оттоком\n",
    "df_streg.groupby('code_module', as_index = False) \\\n",
    "    .agg({'date_unregistration': 'count'}) \\\n",
    "    .rename(columns={\"date_unregistration\": \"number_of_unreg\"}) \\\n",
    "    .sort_values(by=['number_of_unreg'], ascending = False).head(3)"
   ]
  },
  {
   "cell_type": "markdown",
   "id": "78a2dc4c",
   "metadata": {},
   "source": [
    "#### Задание 5\n",
    "Напиши функцию на python, позволяющую строить когортный (семестровый) анализ. В период с начала 2013 по конец 2014 выяви семестр с самой низкой завершаемостью курсов и самыми долгими средними сроками сдачи курсов."
   ]
  },
  {
   "cell_type": "code",
   "execution_count": 30,
   "id": "aefdb091",
   "metadata": {},
   "outputs": [
    {
     "data": {
      "text/plain": [
       "array(['2013J', '2014J', '2013B', '2014B'], dtype=object)"
      ]
     },
     "execution_count": 30,
     "metadata": {},
     "output_type": "execute_result"
    }
   ],
   "source": [
    "#когорта, это группа сформированная по временному признаку\n",
    "#в нашем случае, отрезком времени является семестр\n",
    "#проверяем какие семестры присутствуют в данных\n",
    "df_ass['code_presentation'].unique()"
   ]
  },
  {
   "cell_type": "code",
   "execution_count": 31,
   "id": "2504f3bc",
   "metadata": {},
   "outputs": [],
   "source": [
    "#определяем функцию get_semester_cogort для выполнения когортного (семестрового) анализа\n",
    "#исходными данными для функции являются датафреймы, содержащие \n",
    "#информацию о тестах (ass) и информацию о сдаче тестов студентами (stass)\n",
    "\n",
    "def get_semester_cogort(ass, stass):\n",
    "    \n",
    "    #завершаемость = кол-во успешных экзаменов / кол-во всех попыток сдать экзамен\n",
    "    \n",
    "    #выявляем те тесты которые являются экзаменами, объединем с результатами их сдачи студентами\n",
    "    df_ass_exam = ass.query('assessment_type == \"Exam\"')\n",
    "    df_stass_exam = df_ass_exam.merge(stass, on = 'id_assessment')\n",
    "    \n",
    "    #делаем группировку по семестрам и определяем общее количество попыток сдать экзамен\n",
    "    tests = df_stass_exam.groupby('code_presentation', as_index = False) \\\n",
    "        .agg({'score': 'count'}) \\\n",
    "        .rename(columns = {'score': 'all_tests'})\n",
    "    \n",
    "    #оставляем только успешные сдачи экзамена\n",
    "    #делаем группировку по семестрам и определяем общее количество попыток сдать экзамен\n",
    "    #и среднюю дату успешной сдачи экзамена\n",
    "    tests_good = df_stass_exam.query('score >= 40') \\\n",
    "    .groupby('code_presentation', as_index = False) \\\n",
    "    .agg({'score': 'count', 'date_submitted': 'mean'}) \\\n",
    "    .rename(columns = {'score': 'good_tests', 'date_submitted' : 'post_date'})\n",
    "    \n",
    "    #объединяем два датафрейма\n",
    "    #вычисляем завершаемость\n",
    "    tests_analit =  tests.merge(tests_good, on='code_presentation')\n",
    "    tests_analit['completeness'] = tests_analit['good_tests']/tests_analit['all_tests']\n",
    "    \n",
    "    return tests_analit"
   ]
  },
  {
   "cell_type": "code",
   "execution_count": 32,
   "id": "f46ac833",
   "metadata": {},
   "outputs": [
    {
     "data": {
      "text/html": [
       "<div>\n",
       "<style scoped>\n",
       "    .dataframe tbody tr th:only-of-type {\n",
       "        vertical-align: middle;\n",
       "    }\n",
       "\n",
       "    .dataframe tbody tr th {\n",
       "        vertical-align: top;\n",
       "    }\n",
       "\n",
       "    .dataframe thead th {\n",
       "        text-align: right;\n",
       "    }\n",
       "</style>\n",
       "<table border=\"1\" class=\"dataframe\">\n",
       "  <thead>\n",
       "    <tr style=\"text-align: right;\">\n",
       "      <th></th>\n",
       "      <th>code_presentation</th>\n",
       "      <th>all_tests</th>\n",
       "      <th>good_tests</th>\n",
       "      <th>post_date</th>\n",
       "      <th>completeness</th>\n",
       "    </tr>\n",
       "  </thead>\n",
       "  <tbody>\n",
       "    <tr>\n",
       "      <th>0</th>\n",
       "      <td>2013B</td>\n",
       "      <td>602</td>\n",
       "      <td>504</td>\n",
       "      <td>230.164683</td>\n",
       "      <td>0.837209</td>\n",
       "    </tr>\n",
       "    <tr>\n",
       "      <th>1</th>\n",
       "      <td>2013J</td>\n",
       "      <td>968</td>\n",
       "      <td>878</td>\n",
       "      <td>239.509112</td>\n",
       "      <td>0.907025</td>\n",
       "    </tr>\n",
       "    <tr>\n",
       "      <th>2</th>\n",
       "      <td>2014B</td>\n",
       "      <td>1271</td>\n",
       "      <td>1149</td>\n",
       "      <td>232.997389</td>\n",
       "      <td>0.904013</td>\n",
       "    </tr>\n",
       "    <tr>\n",
       "      <th>3</th>\n",
       "      <td>2014J</td>\n",
       "      <td>2118</td>\n",
       "      <td>1861</td>\n",
       "      <td>243.680279</td>\n",
       "      <td>0.878659</td>\n",
       "    </tr>\n",
       "  </tbody>\n",
       "</table>\n",
       "</div>"
      ],
      "text/plain": [
       "  code_presentation  all_tests  good_tests   post_date  completeness\n",
       "0             2013B        602         504  230.164683      0.837209\n",
       "1             2013J        968         878  239.509112      0.907025\n",
       "2             2014B       1271        1149  232.997389      0.904013\n",
       "3             2014J       2118        1861  243.680279      0.878659"
      ]
     },
     "execution_count": 32,
     "metadata": {},
     "output_type": "execute_result"
    }
   ],
   "source": [
    "#запускаем функцию\n",
    "get_semester_cogort(df_ass, df_stass)"
   ]
  },
  {
   "cell_type": "code",
   "execution_count": 33,
   "id": "ccc44155",
   "metadata": {},
   "outputs": [],
   "source": [
    "#таким образом выявлено:  \n",
    "#самая высока завершаемость наблюдалась в семестре 2013J (0.91)  \n",
    "#самый долгий средний срок сдачи курсов наблюдался в семестре 2014J (243.7 дня)"
   ]
  },
  {
   "cell_type": "markdown",
   "id": "167912f2",
   "metadata": {},
   "source": [
    "#### Задание 6\n",
    "Часто для качественного анализа аудитории использую подходы, основанные на сегментации. Используя python, построй адаптированные RFM-кластеры студентов, чтобы качественно оценить свою аудиторию. В адаптированной кластеризации можешь выбрать следующие метрики:  \n",
    "R - среднее время сдачи одного экзамена (recency),  \n",
    "F - завершаемость курсов (frequency),  \n",
    "M - среднее количество баллов, получаемое за экзамен (monetary).  \n",
    "Подробно опиши, как ты создавал кластеры. Для каждого RFM-сегмента построй границы метрик recency, frequency и monetary для интерпретации этих кластеров. Пример такого описания: RFM-сегмент 132 (recency=1, frequency=3, monetary=2) имеет границы метрик recency от 130 до 500 дней, frequency от 0.1 до 0.5, monetary от 55 до 72 баллов. "
   ]
  },
  {
   "cell_type": "markdown",
   "id": "e846c69a",
   "metadata": {},
   "source": [
    "#### Задание 6 - Первый этап\n",
    "Вычисляем для каждого студента метрики:  \n",
    "R - среднее время сдачи одного экзамена (recency),  \n",
    "F - завершаемость курсов (frequency),  \n",
    "M - среднее количество баллов, получаемое за экзамен (monetary)."
   ]
  },
  {
   "cell_type": "code",
   "execution_count": 34,
   "id": "9ac76b61",
   "metadata": {},
   "outputs": [],
   "source": [
    "#группируем по каждому студенту и определяем среднее время сдачи одного экзамена (R - recency)\n",
    "df_1 = df_stass_exam.groupby('id_student', as_index = False) \\\n",
    "    .agg({'date_submitted': 'mean'}) \\\n",
    "    .rename(columns = {'date_submitted': 'mean_date_R'})"
   ]
  },
  {
   "cell_type": "code",
   "execution_count": 35,
   "id": "c5ae202c",
   "metadata": {},
   "outputs": [],
   "source": [
    "#группируем по каждому студенту и определяем общее количество попыток сдать экзамен\n",
    "df_all_exams = df_stass_exam.groupby('id_student', as_index = False) \\\n",
    "    .agg({'date_submitted': 'count'}) \\\n",
    "    .rename(columns = {'date_submitted': 'all_tests'})\n",
    "#оставляем только успешные сдачи экзамена\n",
    "#группируем по каждому студенту и определяем общее количество успешных экзаменов\n",
    "df_good_exams = df_stass_exam.query('score >= 40') \\\n",
    "    .groupby('id_student', as_index = False) \\\n",
    "    .agg({'date_submitted': 'count'}) \\\n",
    "    .rename(columns = {'date_submitted': 'good_tests'})\n",
    "#объединям два датафрейма\n",
    "df_2 = df_all_exams.merge(df_good_exams, on = 'id_student', how = 'left')\n",
    "#определяем завершаемость курсов (успешные сдачи экзамена/общее количество попыток сдать экзамен; F - frequency)\n",
    "df_2['completeness_F'] = df_2.good_tests/df_2.all_tests"
   ]
  },
  {
   "cell_type": "code",
   "execution_count": 36,
   "id": "0b21a32a",
   "metadata": {},
   "outputs": [],
   "source": [
    "#определяем среднее количество баллов, получаемое за экзамен (M -monetary)\n",
    "df_3 = df_stass_exam.groupby('id_student', as_index = False) \\\n",
    "    .agg({'score': 'mean'}) \\\n",
    "    .rename(columns = {'score': 'mean_score_M'})"
   ]
  },
  {
   "cell_type": "code",
   "execution_count": 37,
   "id": "388994ba",
   "metadata": {},
   "outputs": [],
   "source": [
    "#объединяем все три датафрейма и оставляем только нужные стрлбцы\n",
    "df = pd.merge(pd.merge(df_1, df_2, on='id_student'),df_3,on='id_student')\n",
    "df = df.drop(['all_tests','good_tests'], 1)"
   ]
  },
  {
   "cell_type": "code",
   "execution_count": 38,
   "id": "69223b4c",
   "metadata": {},
   "outputs": [
    {
     "data": {
      "text/plain": [
       "id_student          0\n",
       "mean_date_R         0\n",
       "completeness_F    536\n",
       "mean_score_M        0\n",
       "dtype: int64"
      ]
     },
     "execution_count": 38,
     "metadata": {},
     "output_type": "execute_result"
    }
   ],
   "source": [
    "#проверяем полученный датафрейм на значения Nan\n",
    "df.isna().sum()"
   ]
  },
  {
   "cell_type": "code",
   "execution_count": 39,
   "id": "fc731f59",
   "metadata": {},
   "outputs": [],
   "source": [
    "#заменяем значения Nan на 0 в столбце завершаемости курсов\n",
    "df['completeness_F'] = df['completeness_F'].replace(np.nan, 0)"
   ]
  },
  {
   "cell_type": "code",
   "execution_count": 40,
   "id": "3aa1cfc2",
   "metadata": {},
   "outputs": [
    {
     "data": {
      "text/plain": [
       "1.0    4069\n",
       "0.0     536\n",
       "0.5      28\n",
       "Name: completeness_F, dtype: int64"
      ]
     },
     "execution_count": 40,
     "metadata": {},
     "output_type": "execute_result"
    }
   ],
   "source": [
    "#проверяем в каком количестве встречается каждое из значений в столбце завершаемости курсов\n",
    "df['completeness_F'].value_counts()"
   ]
  },
  {
   "cell_type": "code",
   "execution_count": 41,
   "id": "ec6fbdcc",
   "metadata": {},
   "outputs": [
    {
     "data": {
      "text/html": [
       "<div>\n",
       "<style scoped>\n",
       "    .dataframe tbody tr th:only-of-type {\n",
       "        vertical-align: middle;\n",
       "    }\n",
       "\n",
       "    .dataframe tbody tr th {\n",
       "        vertical-align: top;\n",
       "    }\n",
       "\n",
       "    .dataframe thead th {\n",
       "        text-align: right;\n",
       "    }\n",
       "</style>\n",
       "<table border=\"1\" class=\"dataframe\">\n",
       "  <thead>\n",
       "    <tr style=\"text-align: right;\">\n",
       "      <th></th>\n",
       "      <th>id_student</th>\n",
       "      <th>mean_date_R</th>\n",
       "      <th>completeness_F</th>\n",
       "      <th>mean_score_M</th>\n",
       "    </tr>\n",
       "  </thead>\n",
       "  <tbody>\n",
       "    <tr>\n",
       "      <th>0</th>\n",
       "      <td>23698</td>\n",
       "      <td>243.0</td>\n",
       "      <td>1.0</td>\n",
       "      <td>80.0</td>\n",
       "    </tr>\n",
       "    <tr>\n",
       "      <th>1</th>\n",
       "      <td>24213</td>\n",
       "      <td>236.0</td>\n",
       "      <td>1.0</td>\n",
       "      <td>58.0</td>\n",
       "    </tr>\n",
       "    <tr>\n",
       "      <th>2</th>\n",
       "      <td>27116</td>\n",
       "      <td>243.0</td>\n",
       "      <td>1.0</td>\n",
       "      <td>96.0</td>\n",
       "    </tr>\n",
       "    <tr>\n",
       "      <th>3</th>\n",
       "      <td>28046</td>\n",
       "      <td>237.0</td>\n",
       "      <td>1.0</td>\n",
       "      <td>40.0</td>\n",
       "    </tr>\n",
       "    <tr>\n",
       "      <th>4</th>\n",
       "      <td>28787</td>\n",
       "      <td>243.0</td>\n",
       "      <td>1.0</td>\n",
       "      <td>44.0</td>\n",
       "    </tr>\n",
       "  </tbody>\n",
       "</table>\n",
       "</div>"
      ],
      "text/plain": [
       "   id_student  mean_date_R  completeness_F  mean_score_M\n",
       "0       23698        243.0             1.0          80.0\n",
       "1       24213        236.0             1.0          58.0\n",
       "2       27116        243.0             1.0          96.0\n",
       "3       28046        237.0             1.0          40.0\n",
       "4       28787        243.0             1.0          44.0"
      ]
     },
     "execution_count": 41,
     "metadata": {},
     "output_type": "execute_result"
    }
   ],
   "source": [
    "#итоговый датафрейм\n",
    "df.head()"
   ]
  },
  {
   "cell_type": "markdown",
   "id": "ce58c8ea",
   "metadata": {},
   "source": [
    "#### Задание 6 - Второй этап\n",
    "Смотрим распределение полученных значений"
   ]
  },
  {
   "cell_type": "code",
   "execution_count": 51,
   "id": "aae86a77",
   "metadata": {},
   "outputs": [
    {
     "data": {
      "image/png": "[encoded data removed]",
      "text/plain": [
       "<Figure size 864x720 with 3 Axes>"
      ]
     },
     "metadata": {
      "needs_background": "light"
     },
     "output_type": "display_data"
    }
   ],
   "source": [
    "plt.figure(figsize=(12,10))\n",
    "plt.subplot(3, 1, 1); sns.distplot(df['mean_date_R'])\n",
    "plt.subplot(3, 1, 2); sns.distplot(df['completeness_F'])\n",
    "plt.subplot(3, 1, 3); sns.distplot(df['mean_score_M'])\n",
    "plt.show()"
   ]
  },
  {
   "cell_type": "markdown",
   "id": "e15d0c3f",
   "metadata": {},
   "source": [
    "#### Задание 6 - Третий этап\n",
    "Делаем сегментацию и определяем значения R, F и M"
   ]
  },
  {
   "cell_type": "code",
   "execution_count": 44,
   "id": "5bebf0b4",
   "metadata": {},
   "outputs": [],
   "source": [
    "#значения R и M у нас непрерывные\n",
    "#таким образом сегменты для них будут определяться разделением всего массива на три равные части\n",
    "quantiles = df.quantile(q=[0.30, 0.60])\n",
    "quantiles = quantiles.to_dict()\n",
    "def RFM_rm(x,p,d):\n",
    "    if x <= d[p][0.30]:\n",
    "        return 1\n",
    "    elif x <= d[p][0.60]:\n",
    "        return 2\n",
    "    else:\n",
    "        return 3"
   ]
  },
  {
   "cell_type": "code",
   "execution_count": 45,
   "id": "9adee536",
   "metadata": {},
   "outputs": [],
   "source": [
    "#определяем значение R\n",
    "df['R'] = df['mean_date_R'].apply(RFM_rm, args=('mean_date_R',quantiles))"
   ]
  },
  {
   "cell_type": "code",
   "execution_count": 46,
   "id": "9d14bae7",
   "metadata": {},
   "outputs": [],
   "source": [
    "#значения F у нас дискретны - 0, 0.5 и 1 \n",
    "#таким образом сегментация будет осуществляться строго по этим значениям\n",
    "f_values=[]\n",
    "for i in df['completeness_F']:\n",
    "    if i == 0:\n",
    "        a = 1\n",
    "    elif i == 0.5:\n",
    "        a = 2\n",
    "    else:\n",
    "        a = 3\n",
    "    f_values.append(a)\n",
    "#определяем значение F\n",
    "df['F'] = f_values"
   ]
  },
  {
   "cell_type": "code",
   "execution_count": 47,
   "id": "c780ce6e",
   "metadata": {},
   "outputs": [],
   "source": [
    "#определяем значение M\n",
    "df['M'] = df['mean_score_M'].apply(RFM_rm, args=('mean_score_M',quantiles))"
   ]
  },
  {
   "cell_type": "code",
   "execution_count": 48,
   "id": "bd2f1886",
   "metadata": {},
   "outputs": [
    {
     "data": {
      "text/html": [
       "<div>\n",
       "<style scoped>\n",
       "    .dataframe tbody tr th:only-of-type {\n",
       "        vertical-align: middle;\n",
       "    }\n",
       "\n",
       "    .dataframe tbody tr th {\n",
       "        vertical-align: top;\n",
       "    }\n",
       "\n",
       "    .dataframe thead th {\n",
       "        text-align: right;\n",
       "    }\n",
       "</style>\n",
       "<table border=\"1\" class=\"dataframe\">\n",
       "  <thead>\n",
       "    <tr style=\"text-align: right;\">\n",
       "      <th></th>\n",
       "      <th>id_student</th>\n",
       "      <th>mean_date_R</th>\n",
       "      <th>completeness_F</th>\n",
       "      <th>mean_score_M</th>\n",
       "      <th>R</th>\n",
       "      <th>F</th>\n",
       "      <th>M</th>\n",
       "      <th>RFMScore</th>\n",
       "    </tr>\n",
       "  </thead>\n",
       "  <tbody>\n",
       "    <tr>\n",
       "      <th>0</th>\n",
       "      <td>23698</td>\n",
       "      <td>243.0</td>\n",
       "      <td>1.0</td>\n",
       "      <td>80.0</td>\n",
       "      <td>3</td>\n",
       "      <td>3</td>\n",
       "      <td>3</td>\n",
       "      <td>333</td>\n",
       "    </tr>\n",
       "    <tr>\n",
       "      <th>1</th>\n",
       "      <td>24213</td>\n",
       "      <td>236.0</td>\n",
       "      <td>1.0</td>\n",
       "      <td>58.0</td>\n",
       "      <td>2</td>\n",
       "      <td>3</td>\n",
       "      <td>2</td>\n",
       "      <td>232</td>\n",
       "    </tr>\n",
       "    <tr>\n",
       "      <th>2</th>\n",
       "      <td>27116</td>\n",
       "      <td>243.0</td>\n",
       "      <td>1.0</td>\n",
       "      <td>96.0</td>\n",
       "      <td>3</td>\n",
       "      <td>3</td>\n",
       "      <td>3</td>\n",
       "      <td>333</td>\n",
       "    </tr>\n",
       "    <tr>\n",
       "      <th>3</th>\n",
       "      <td>28046</td>\n",
       "      <td>237.0</td>\n",
       "      <td>1.0</td>\n",
       "      <td>40.0</td>\n",
       "      <td>2</td>\n",
       "      <td>3</td>\n",
       "      <td>1</td>\n",
       "      <td>231</td>\n",
       "    </tr>\n",
       "    <tr>\n",
       "      <th>4</th>\n",
       "      <td>28787</td>\n",
       "      <td>243.0</td>\n",
       "      <td>1.0</td>\n",
       "      <td>44.0</td>\n",
       "      <td>3</td>\n",
       "      <td>3</td>\n",
       "      <td>1</td>\n",
       "      <td>331</td>\n",
       "    </tr>\n",
       "  </tbody>\n",
       "</table>\n",
       "</div>"
      ],
      "text/plain": [
       "   id_student  mean_date_R  completeness_F  mean_score_M  R  F  M RFMScore\n",
       "0       23698        243.0             1.0          80.0  3  3  3      333\n",
       "1       24213        236.0             1.0          58.0  2  3  2      232\n",
       "2       27116        243.0             1.0          96.0  3  3  3      333\n",
       "3       28046        237.0             1.0          40.0  2  3  1      231\n",
       "4       28787        243.0             1.0          44.0  3  3  1      331"
      ]
     },
     "execution_count": 48,
     "metadata": {},
     "output_type": "execute_result"
    }
   ],
   "source": [
    "df['RFMScore'] = df.R.map(str) + df.F.map(str) + df.M.map(str)\n",
    "df.head()"
   ]
  },
  {
   "cell_type": "code",
   "execution_count": 49,
   "id": "016a84fa",
   "metadata": {},
   "outputs": [
    {
     "data": {
      "image/png": "[encoded data removed]",
      "text/plain": [
       "<Figure size 800x640 with 1 Axes>"
      ]
     },
     "metadata": {},
     "output_type": "display_data"
    }
   ],
   "source": [
    "#смотрим какие группы преобладают\n",
    "fig=plt.figure(figsize=(10, 8), dpi= 80, facecolor='w', edgecolor='k')\n",
    "df.groupby('RFMScore').agg('mean_date_R').count().plot(kind='bar', colormap='Blues_r')\n",
    "plt.show()"
   ]
  },
  {
   "cell_type": "markdown",
   "id": "11f67525",
   "metadata": {},
   "source": [
    "R - среднее время сдачи одного экзамена (recency),  \n",
    "F - завершаемость курсов (frequency),  \n",
    "M - среднее количество баллов, получаемое за экзамен (monetary).  \n",
    "\n",
    "Выявлено, что преобладает студенты с завершаемостью курсов = 1 (F = 3)   \n",
    "Из них преобладают студенты с наиболее высокой средней оценкой за экзамен (M = 3)  \n",
    "Среднее время сдачи не связано со средним количеством баллов получаемых за экзамен"
   ]
  },
  {
   "cell_type": "markdown",
   "id": "8b820d2a",
   "metadata": {},
   "source": [
    "[обсуждение промежуточного проекта с рецензентом](intermed_proj_review.md)"
   ]
  },
  {
   "cell_type": "code",
   "execution_count": null,
   "id": "540bcf78",
   "metadata": {},
   "outputs": [],
   "source": []
  }
 ],
 "metadata": {
  "kernelspec": {
   "display_name": "Python 3",
   "language": "python",
   "name": "python3"
  },
  "language_info": {
   "codemirror_mode": {
    "name": "ipython",
    "version": 3
   },
   "file_extension": ".py",
   "mimetype": "text/x-python",
   "name": "python",
   "nbconvert_exporter": "python",
   "pygments_lexer": "ipython3",
   "version": "3.8.8"
  }
 },
 "nbformat": 4,
 "nbformat_minor": 5
}
